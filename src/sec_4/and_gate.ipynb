{
 "cells": [
  {
   "cell_type": "code",
   "execution_count": 1,
   "metadata": {},
   "outputs": [],
   "source": [
    "import numpy as np"
   ]
  },
  {
   "cell_type": "code",
   "execution_count": 2,
   "metadata": {},
   "outputs": [],
   "source": [
    "def create_matrix(\n",
    "    x: np.ndarray,\n",
    ") -> np.ndarray:\n",
    "    \"\"\"\n",
    "    Add a column of ones to the input matrix (pretend it's a bias term)\n",
    "    Args:\n",
    "        x: np.ndarray of shape (p, q)\n",
    "    Returns:\n",
    "        np.ndarray of shape (p + 1, q) x0 is added to the first column\n",
    "    \"\"\"\n",
    "    x0 = np.ones([x.shape[0], 1])\n",
    "    return np.hstack([x0, x])"
   ]
  },
  {
   "cell_type": "code",
   "execution_count": 3,
   "metadata": {},
   "outputs": [],
   "source": [
    "def sigmoid(\n",
    "    X: np.ndarray,\n",
    "    parameters: np.ndarray,\n",
    ") -> np.ndarray:\n",
    "    \"\"\"\n",
    "    vectorized sigmoid function\n",
    "    Args:\n",
    "        X: np.ndarray of shape (n, m)\n",
    "        parameters: np.ndarray of shape (m, 1)\n",
    "    Returns:\n",
    "        np.ndarray of shape (n, 1)\n",
    "    \"\"\"\n",
    "    return 1 / (1 + np.exp(-np.dot(X, parameters)))"
   ]
  },
  {
   "cell_type": "code",
   "execution_count": 4,
   "metadata": {},
   "outputs": [],
   "source": [
    "def logistic_regression(\n",
    "    X: np.ndarray,\n",
    "    t: np.ndarray,\n",
    ") -> np.ndarray:\n",
    "    \"\"\"\n",
    "    update the parameters with the gradient descent\n",
    "    Args:\n",
    "        X: np.ndarray of shape (n, m)\n",
    "        t: np.ndarray of shape (n, 1)\n",
    "    Returns:\n",
    "        np.ndarray of shape (m + 1, 1)\n",
    "    \"\"\"\n",
    "    # Learning rate\n",
    "    LNR = 1e-1\n",
    "    # Number of iterations\n",
    "    loop = 50\n",
    "    # counter of iterations\n",
    "    counter = 1\n",
    "    #initialize the parameters\n",
    "    parameters = np.random.rand(X.shape[1])\n",
    "    for _ in range(loop):\n",
    "        # update w0, w1, w2 with the gradient descent\n",
    "        parameters = parameters - LNR * np.dot(sigmoid(X, parameters) - t, X)\n",
    "        \n",
    "        # return the parameters for the first and tenth iteration\n",
    "        if (counter == 1 or counter % 10 == 0):\n",
    "            print('{}回目の更新: parameters = {}'.format(counter, parameters))\n",
    "        counter += 1\n",
    "    \n",
    "    return parameters"
   ]
  },
  {
   "cell_type": "code",
   "execution_count": 5,
   "metadata": {},
   "outputs": [
    {
     "name": "stdout",
     "output_type": "stream",
     "text": [
      "1回目の更新: parameters = [0.18283127 0.09945552 0.64429263]\n",
      "10回目の更新: parameters = [-0.72401844  0.08409797  0.52054392]\n",
      "20回目の更新: parameters = [-1.18054001  0.31495722  0.66086909]\n",
      "30回目の更新: parameters = [-1.49747579  0.56525404  0.84271086]\n",
      "40回目の更新: parameters = [-1.7664672   0.79370497  1.01771423]\n",
      "50回目の更新: parameters = [-2.0087293   0.99744112  1.17927157]\n"
     ]
    }
   ],
   "source": [
    "# and gate\n",
    "x = np.array([[0, 0], [0, 1], [1, 0], [1, 1]])\n",
    "t = np.array([0, 0, 0, 1])\n",
    "X = create_matrix(x)\n",
    "parameters = logistic_regression(X, t)"
   ]
  },
  {
   "cell_type": "code",
   "execution_count": 6,
   "metadata": {},
   "outputs": [
    {
     "data": {
      "text/plain": [
       "array([0, 0, 0, 1])"
      ]
     },
     "execution_count": 6,
     "metadata": {},
     "output_type": "execute_result"
    }
   ],
   "source": [
    "# test the model\n",
    "(sigmoid(create_matrix(x), parameters) >= 0.5).astype(int)"
   ]
  },
  {
   "cell_type": "code",
   "execution_count": 11,
   "metadata": {},
   "outputs": [
    {
     "data": {
      "text/plain": [
       "(2,)"
      ]
     },
     "execution_count": 11,
     "metadata": {},
     "output_type": "execute_result"
    }
   ],
   "source": [
    "np.array([0,2]).shape"
   ]
  },
  {
   "cell_type": "code",
   "execution_count": null,
   "metadata": {},
   "outputs": [],
   "source": []
  }
 ],
 "metadata": {
  "kernelspec": {
   "display_name": ".venv",
   "language": "python",
   "name": "python3"
  },
  "language_info": {
   "codemirror_mode": {
    "name": "ipython",
    "version": 3
   },
   "file_extension": ".py",
   "mimetype": "text/x-python",
   "name": "python",
   "nbconvert_exporter": "python",
   "pygments_lexer": "ipython3",
   "version": "3.10.2"
  }
 },
 "nbformat": 4,
 "nbformat_minor": 2
}
